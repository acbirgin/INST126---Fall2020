{
 "cells": [
  {
   "cell_type": "code",
   "execution_count": 22,
   "metadata": {},
   "outputs": [
    {
     "name": "stdout",
     "output_type": "stream",
     "text": [
      "Enter preferred operation:\n",
      "    * for multiplication\n",
      "    / for division\n",
      "    + for addition\n",
      "    - for subtraction\n",
      "    ** for power\n",
      "    -\n",
      "Enter the first number: 5\n",
      "enter the second: 4\n",
      "5.0 - 4.0 \n",
      "1.0\n",
      "Would you like to insert another calculation? Y for Yes, N for No.N\n",
      "DONE!\n"
     ]
    }
   ],
   "source": [
    "#Welcome to the Calculator Project!\n",
    "def calculate():\n",
    "    operation = input('''Enter preferred operation:\n",
    "    * for multiplication\n",
    "    / for division\n",
    "    + for addition\n",
    "    - for subtraction\n",
    "    ** for power\n",
    "    ''')\n",
    "\n",
    "    num_1 = float(input(\"Enter the first number: \"))\n",
    "    num_2 = float(input(\"enter the second: \"))\n",
    "\n",
    "    if operation == '*':\n",
    "        print('{} * {} = '.format(num_1, num_2))\n",
    "        print(num_1 * num_2)\n",
    "\n",
    "    elif operation == '/':\n",
    "        print('{} / {} = '.format(num_1, num_2))\n",
    "        print(num_1 / num_2)\n",
    "\n",
    "    elif operation == '+':\n",
    "        print('{} + {} '.format(num_1, num_2))\n",
    "        print(num_1 + num_2)\n",
    "\n",
    "    elif operation == '-':\n",
    "        print('{} - {} '.format(num_1, num_2))\n",
    "        print(num_1 - num_2)\n",
    "\n",
    "    elif operation == '**':\n",
    "        print('{} ** {} '.format(num_1, num_2))\n",
    "        print(num_1 ** num_2)\n",
    "    else:\n",
    "        print(\"Please input a valid operation!\")\n",
    "        \n",
    "    again()\n",
    "\n",
    "def again():\n",
    "    calculate_again = input('''Would you like to insert another calculation? Y for Yes, N for No.''')\n",
    "    \n",
    "    if calculate_again.upper() == 'Y':\n",
    "        calculate()\n",
    "    elif calculate_again.upper() == 'N':\n",
    "        print(\"DONE!\")\n",
    "    else:\n",
    "        again()\n",
    "calculate()\n",
    "    \n",
    "\n",
    "\n"
   ]
  }
 ],
 "metadata": {
  "kernelspec": {
   "display_name": "Python 3",
   "language": "python",
   "name": "python3"
  },
  "language_info": {
   "codemirror_mode": {
    "name": "ipython",
    "version": 3
   },
   "file_extension": ".py",
   "mimetype": "text/x-python",
   "name": "python",
   "nbconvert_exporter": "python",
   "pygments_lexer": "ipython3",
   "version": "3.8.5"
  }
 },
 "nbformat": 4,
 "nbformat_minor": 4
}
